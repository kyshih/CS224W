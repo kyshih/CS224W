{
 "cells": [
  {
   "cell_type": "code",
   "execution_count": 5,
   "metadata": {},
   "outputs": [],
   "source": [
    "import os\n",
    "import torch\n",
    "from torch_geometric.data import Dataset, DataLoader\n",
    "from torch_geometric.nn import GATConv\n",
    "import pandas as pd\n",
    "import numpy as np"
   ]
  },
  {
   "cell_type": "code",
   "execution_count": 7,
   "metadata": {},
   "outputs": [],
   "source": [
    "rnaseq = pd.read_csv(\n",
    "    '/Users/xxc15/Desktop/CS224W/project/data/ENCFF103FSL.tsv', sep=\"\\t\", header=0\n",
    ")\n",
    "# Create a mapping from gene_id to tpm\n",
    "gene_id_to_tpm = dict(zip(rnaseq['gene_id'], rnaseq['TPM']))"
   ]
  },
  {
   "cell_type": "code",
   "execution_count": 8,
   "metadata": {},
   "outputs": [],
   "source": [
    "# Directory where the graphs are saved\n",
    "graph_dir = '/Users/xxc15/Desktop/CS224W/project/graphs_linear'"
   ]
  },
  {
   "cell_type": "code",
   "execution_count": 23,
   "metadata": {},
   "outputs": [],
   "source": [
    "class GeneExpressionDataset(Dataset):\n",
    "    def __init__(self, root, gene_id_to_tpm, transform=None, pre_transform=None):\n",
    "        self.gene_id_to_tpm = gene_id_to_tpm\n",
    "        super(GeneExpressionDataset, self).__init__(root, transform, pre_transform)\n",
    "        \n",
    "        # Only include graph files whose gene_id is in gene_id_to_tpm\n",
    "        all_graph_files = [f for f in os.listdir(self.root) if f.endswith('.pt')]\n",
    "        self.graph_files = []\n",
    "        for graph_file in all_graph_files:\n",
    "            graph_path = os.path.join(self.root, graph_file)\n",
    "            data = torch.load(graph_path)\n",
    "            gene_id = data.gene_id\n",
    "            if gene_id in self.gene_id_to_tpm:\n",
    "                self.graph_files.append(graph_file)\n",
    "        self.graph_files.sort()  # Ensure consistent ordering\n",
    "\n",
    "    def len(self):\n",
    "        return len(self.graph_files)\n",
    "\n",
    "    def get(self, idx):\n",
    "        # Load the graph data object\n",
    "        graph_path = os.path.join(self.root, self.graph_files[idx])\n",
    "        data = torch.load(graph_path)\n",
    "        \n",
    "        # Get the gene_id from the data object\n",
    "        gene_id = data.gene_id\n",
    "        \n",
    "        # Assign the label (TPM value)\n",
    "        tpm_value = np.log1p(self.gene_id_to_tpm[gene_id])  # Use log(1 + TPM)\n",
    "        data.y = torch.tensor([tpm_value], dtype=torch.float)\n",
    "\n",
    "        # Ensure gene_id is stored as a list to handle batching\n",
    "        data.gene_id = [gene_id]\n",
    "        \n",
    "        return data\n",
    "\n"
   ]
  },
  {
   "cell_type": "code",
   "execution_count": 24,
   "metadata": {},
   "outputs": [],
   "source": [
    "import torch.nn as nn\n",
    "import torch.nn.functional as F\n",
    "from torch_geometric.nn import GATConv, global_mean_pool\n",
    "\n",
    "class GATRegressor(nn.Module):\n",
    "    def __init__(self, input_dim, hidden_dim, output_dim, num_layers=2, heads=4):\n",
    "        super(GATRegressor, self).__init__()\n",
    "        self.convs = nn.ModuleList()\n",
    "        self.convs.append(GATConv(input_dim, hidden_dim, heads=heads, concat=True))\n",
    "        for _ in range(num_layers - 1):\n",
    "            self.convs.append(GATConv(hidden_dim * heads, hidden_dim, heads=heads, concat=True))\n",
    "        self.fc = nn.Linear(hidden_dim * heads, output_dim)\n",
    "\n",
    "    def forward(self, data):\n",
    "        x, edge_index, batch = data.x, data.edge_index, data.batch\n",
    "\n",
    "        for conv in self.convs:\n",
    "            x = conv(x, edge_index)\n",
    "            x = F.elu(x)\n",
    "\n",
    "        # Global mean pooling\n",
    "        x = global_mean_pool(x, batch)\n",
    "        \n",
    "        # Final regression layer\n",
    "        out = self.fc(x)\n",
    "        return out.squeeze()\n"
   ]
  },
  {
   "cell_type": "code",
   "execution_count": 25,
   "metadata": {},
   "outputs": [
    {
     "name": "stderr",
     "output_type": "stream",
     "text": [
      "/var/folders/6b/y4bf77dj2d5cnwkmbn6yqv_c0000gn/T/ipykernel_76865/4272742133.py:11: FutureWarning: You are using `torch.load` with `weights_only=False` (the current default value), which uses the default pickle module implicitly. It is possible to construct malicious pickle data which will execute arbitrary code during unpickling (See https://github.com/pytorch/pytorch/blob/main/SECURITY.md#untrusted-models for more details). In a future release, the default value for `weights_only` will be flipped to `True`. This limits the functions that could be executed during unpickling. Arbitrary objects will no longer be allowed to be loaded via this mode unless they are explicitly allowlisted by the user via `torch.serialization.add_safe_globals`. We recommend you start setting `weights_only=True` for any use case where you don't have full control of the loaded file. Please open an issue on GitHub for any issues related to this experimental feature.\n",
      "  data = torch.load(graph_path)\n",
      "/opt/miniconda3/envs/cs224w/lib/python3.12/site-packages/torch_geometric/deprecation.py:26: UserWarning: 'data.DataLoader' is deprecated, use 'loader.DataLoader' instead\n",
      "  warnings.warn(out)\n",
      "/var/folders/6b/y4bf77dj2d5cnwkmbn6yqv_c0000gn/T/ipykernel_76865/4272742133.py:23: FutureWarning: You are using `torch.load` with `weights_only=False` (the current default value), which uses the default pickle module implicitly. It is possible to construct malicious pickle data which will execute arbitrary code during unpickling (See https://github.com/pytorch/pytorch/blob/main/SECURITY.md#untrusted-models for more details). In a future release, the default value for `weights_only` will be flipped to `True`. This limits the functions that could be executed during unpickling. Arbitrary objects will no longer be allowed to be loaded via this mode unless they are explicitly allowlisted by the user via `torch.serialization.add_safe_globals`. We recommend you start setting `weights_only=True` for any use case where you don't have full control of the loaded file. Please open an issue on GitHub for any issues related to this experimental feature.\n",
      "  data = torch.load(graph_path)\n"
     ]
    }
   ],
   "source": [
    "from torch_geometric.data import DataLoader\n",
    "from sklearn.model_selection import train_test_split\n",
    "\n",
    "# Initialize the dataset\n",
    "dataset = GeneExpressionDataset(root=graph_dir, gene_id_to_tpm=gene_id_to_tpm)\n",
    "\n",
    "# Create indices for all samples\n",
    "all_indices = list(range(len(dataset)))\n",
    "\n",
    "# First split: Train (40%) and Temp (60%)\n",
    "train_size = 0.4\n",
    "temp_size = 0.6  # Remaining after train\n",
    "train_indices, temp_indices = train_test_split(\n",
    "    all_indices, test_size=temp_size, random_state=42\n",
    ")\n",
    "\n",
    "# Second split: Validation (50% of temp) and Test (50% of temp)\n",
    "# Since temp_size is 60%, splitting it equally gives 30% each for val and test\n",
    "val_size = 0.5\n",
    "val_indices, test_indices = train_test_split(\n",
    "    temp_indices, test_size=val_size, random_state=42\n",
    ")\n",
    "\n",
    "# Create subsets\n",
    "from torch.utils.data import Subset\n",
    "\n",
    "train_dataset = Subset(dataset, train_indices)\n",
    "val_dataset = Subset(dataset, val_indices)\n",
    "test_dataset = Subset(dataset, test_indices)\n",
    "\n",
    "# Create data loaders\n",
    "train_loader = DataLoader(train_dataset, batch_size=16, shuffle=True)\n",
    "val_loader = DataLoader(val_dataset, batch_size=16, shuffle=False)\n",
    "test_loader = DataLoader(test_dataset, batch_size=16, shuffle=False)\n",
    "\n",
    "# Get the input dimension from the dataset\n",
    "sample_data = dataset[0]\n",
    "input_dim = sample_data.num_node_features\n",
    "\n",
    "# Initialize the model, loss function, and optimizer\n",
    "model = GATRegressor(input_dim=input_dim, hidden_dim=64, output_dim=1, num_layers=2, heads=4)\n",
    "criterion = nn.MSELoss()\n",
    "optimizer = torch.optim.Adam(model.parameters(), lr=0.001, weight_decay=5e-4)\n"
   ]
  },
  {
   "cell_type": "code",
   "execution_count": 26,
   "metadata": {},
   "outputs": [],
   "source": [
    "def train(model, loader, criterion, optimizer):\n",
    "    model.train()\n",
    "    total_loss = 0\n",
    "    for data in loader:\n",
    "        optimizer.zero_grad()\n",
    "        out = model(data)\n",
    "        loss = criterion(out, data.y)\n",
    "        loss.backward()\n",
    "        optimizer.step()\n",
    "        total_loss += loss.item() * data.num_graphs\n",
    "    return total_loss / len(loader.dataset)\n",
    "\n",
    "def evaluate(model, loader, criterion):\n",
    "    model.eval()\n",
    "    total_loss = 0\n",
    "    with torch.no_grad():\n",
    "        for data in loader:\n",
    "            out = model(data)\n",
    "            loss = criterion(out, data.y)\n",
    "            total_loss += loss.item() * data.num_graphs\n",
    "    return total_loss / len(loader.dataset)\n"
   ]
  },
  {
   "cell_type": "code",
   "execution_count": 27,
   "metadata": {},
   "outputs": [
    {
     "name": "stderr",
     "output_type": "stream",
     "text": [
      "/var/folders/6b/y4bf77dj2d5cnwkmbn6yqv_c0000gn/T/ipykernel_76865/4272742133.py:23: FutureWarning: You are using `torch.load` with `weights_only=False` (the current default value), which uses the default pickle module implicitly. It is possible to construct malicious pickle data which will execute arbitrary code during unpickling (See https://github.com/pytorch/pytorch/blob/main/SECURITY.md#untrusted-models for more details). In a future release, the default value for `weights_only` will be flipped to `True`. This limits the functions that could be executed during unpickling. Arbitrary objects will no longer be allowed to be loaded via this mode unless they are explicitly allowlisted by the user via `torch.serialization.add_safe_globals`. We recommend you start setting `weights_only=True` for any use case where you don't have full control of the loaded file. Please open an issue on GitHub for any issues related to this experimental feature.\n",
      "  data = torch.load(graph_path)\n"
     ]
    },
    {
     "name": "stdout",
     "output_type": "stream",
     "text": [
      "Epoch 1, Train Loss: 0.3545, Val Loss: 0.3598\n",
      "Epoch 2, Train Loss: 0.3463, Val Loss: 0.3571\n",
      "Epoch 3, Train Loss: 0.3457, Val Loss: 0.3560\n",
      "Epoch 4, Train Loss: 0.3457, Val Loss: 0.3574\n",
      "Epoch 5, Train Loss: 0.3457, Val Loss: 0.3564\n",
      "Epoch 6, Train Loss: 0.3461, Val Loss: 0.3564\n",
      "Epoch 7, Train Loss: 0.3452, Val Loss: 0.3563\n",
      "Epoch 8, Train Loss: 0.3469, Val Loss: 0.3564\n",
      "Epoch 9, Train Loss: 0.3447, Val Loss: 0.3571\n",
      "Epoch 10, Train Loss: 0.3451, Val Loss: 0.3568\n",
      "Epoch 11, Train Loss: 0.3447, Val Loss: 0.3559\n",
      "Epoch 12, Train Loss: 0.3467, Val Loss: 0.3560\n",
      "Epoch 13, Train Loss: 0.3446, Val Loss: 0.3560\n",
      "Epoch 14, Train Loss: 0.3444, Val Loss: 0.3558\n",
      "Epoch 15, Train Loss: 0.3446, Val Loss: 0.3558\n",
      "Epoch 16, Train Loss: 0.3457, Val Loss: 0.3569\n",
      "Epoch 17, Train Loss: 0.3442, Val Loss: 0.3563\n",
      "Epoch 18, Train Loss: 0.3447, Val Loss: 0.3557\n",
      "Epoch 19, Train Loss: 0.3452, Val Loss: 0.3557\n",
      "Epoch 20, Train Loss: 0.3442, Val Loss: 0.3557\n",
      "Epoch 21, Train Loss: 0.3446, Val Loss: 0.3561\n",
      "Epoch 22, Train Loss: 0.3440, Val Loss: 0.3570\n",
      "Epoch 23, Train Loss: 0.3444, Val Loss: 0.3555\n",
      "Epoch 24, Train Loss: 0.3438, Val Loss: 0.3583\n",
      "Epoch 25, Train Loss: 0.3448, Val Loss: 0.3558\n",
      "Epoch 26, Train Loss: 0.3445, Val Loss: 0.3571\n",
      "Epoch 27, Train Loss: 0.3436, Val Loss: 0.3554\n",
      "Epoch 28, Train Loss: 0.3437, Val Loss: 0.3572\n",
      "Epoch 29, Train Loss: 0.3443, Val Loss: 0.3571\n",
      "Epoch 30, Train Loss: 0.3439, Val Loss: 0.3554\n",
      "Epoch 31, Train Loss: 0.3459, Val Loss: 0.3560\n",
      "Epoch 32, Train Loss: 0.3436, Val Loss: 0.3553\n",
      "Epoch 33, Train Loss: 0.3436, Val Loss: 0.3552\n",
      "Epoch 34, Train Loss: 0.3441, Val Loss: 0.3603\n",
      "Epoch 35, Train Loss: 0.3451, Val Loss: 0.3558\n",
      "Epoch 36, Train Loss: 0.3435, Val Loss: 0.3558\n",
      "Epoch 37, Train Loss: 0.3441, Val Loss: 0.3553\n",
      "Epoch 38, Train Loss: 0.3433, Val Loss: 0.3554\n",
      "Epoch 39, Train Loss: 0.3449, Val Loss: 0.3553\n",
      "Epoch 40, Train Loss: 0.3436, Val Loss: 0.3554\n",
      "Epoch 41, Train Loss: 0.3434, Val Loss: 0.3559\n",
      "Epoch 42, Train Loss: 0.3453, Val Loss: 0.3553\n",
      "Epoch 43, Train Loss: 0.3436, Val Loss: 0.3555\n",
      "Early stopping!\n"
     ]
    }
   ],
   "source": [
    "num_epochs = 100\n",
    "best_val_loss = float('inf')\n",
    "patience = 10\n",
    "patience_counter = 0\n",
    "\n",
    "for epoch in range(1, num_epochs + 1):\n",
    "    train_loss = train(model, train_loader, criterion, optimizer)\n",
    "    val_loss = evaluate(model, val_loader, criterion)\n",
    "\n",
    "    print(f'Epoch {epoch}, Train Loss: {train_loss:.4f}, Val Loss: {val_loss:.4f}')\n",
    "\n",
    "    # Early stopping\n",
    "    if val_loss < best_val_loss:\n",
    "        best_val_loss = val_loss\n",
    "        patience_counter = 0\n",
    "        # Save the best model\n",
    "        torch.save(model.state_dict(), 'best_model.pt')\n",
    "    else:\n",
    "        patience_counter += 1\n",
    "        if patience_counter >= patience:\n",
    "            print('Early stopping!')\n",
    "            break\n",
    "\n"
   ]
  },
  {
   "cell_type": "code",
   "execution_count": 28,
   "metadata": {},
   "outputs": [
    {
     "name": "stderr",
     "output_type": "stream",
     "text": [
      "/var/folders/6b/y4bf77dj2d5cnwkmbn6yqv_c0000gn/T/ipykernel_76865/1048347387.py:2: FutureWarning: You are using `torch.load` with `weights_only=False` (the current default value), which uses the default pickle module implicitly. It is possible to construct malicious pickle data which will execute arbitrary code during unpickling (See https://github.com/pytorch/pytorch/blob/main/SECURITY.md#untrusted-models for more details). In a future release, the default value for `weights_only` will be flipped to `True`. This limits the functions that could be executed during unpickling. Arbitrary objects will no longer be allowed to be loaded via this mode unless they are explicitly allowlisted by the user via `torch.serialization.add_safe_globals`. We recommend you start setting `weights_only=True` for any use case where you don't have full control of the loaded file. Please open an issue on GitHub for any issues related to this experimental feature.\n",
      "  model.load_state_dict(torch.load('best_model.pt'))\n",
      "/var/folders/6b/y4bf77dj2d5cnwkmbn6yqv_c0000gn/T/ipykernel_76865/4272742133.py:23: FutureWarning: You are using `torch.load` with `weights_only=False` (the current default value), which uses the default pickle module implicitly. It is possible to construct malicious pickle data which will execute arbitrary code during unpickling (See https://github.com/pytorch/pytorch/blob/main/SECURITY.md#untrusted-models for more details). In a future release, the default value for `weights_only` will be flipped to `True`. This limits the functions that could be executed during unpickling. Arbitrary objects will no longer be allowed to be loaded via this mode unless they are explicitly allowlisted by the user via `torch.serialization.add_safe_globals`. We recommend you start setting `weights_only=True` for any use case where you don't have full control of the loaded file. Please open an issue on GitHub for any issues related to this experimental feature.\n",
      "  data = torch.load(graph_path)\n"
     ]
    },
    {
     "name": "stdout",
     "output_type": "stream",
     "text": [
      "Validation Loss: 0.3552\n"
     ]
    }
   ],
   "source": [
    "# Load the best model\n",
    "model.load_state_dict(torch.load('best_model.pt'))\n",
    "\n",
    "# Evaluate on the validation set\n",
    "val_loss = evaluate(model, val_loader, criterion)\n",
    "print(f'Validation Loss: {val_loss:.4f}')\n"
   ]
  },
  {
   "cell_type": "code",
   "execution_count": 29,
   "metadata": {},
   "outputs": [
    {
     "name": "stderr",
     "output_type": "stream",
     "text": [
      "/var/folders/6b/y4bf77dj2d5cnwkmbn6yqv_c0000gn/T/ipykernel_76865/4272742133.py:23: FutureWarning: You are using `torch.load` with `weights_only=False` (the current default value), which uses the default pickle module implicitly. It is possible to construct malicious pickle data which will execute arbitrary code during unpickling (See https://github.com/pytorch/pytorch/blob/main/SECURITY.md#untrusted-models for more details). In a future release, the default value for `weights_only` will be flipped to `True`. This limits the functions that could be executed during unpickling. Arbitrary objects will no longer be allowed to be loaded via this mode unless they are explicitly allowlisted by the user via `torch.serialization.add_safe_globals`. We recommend you start setting `weights_only=True` for any use case where you don't have full control of the loaded file. Please open an issue on GitHub for any issues related to this experimental feature.\n",
      "  data = torch.load(graph_path)\n"
     ]
    },
    {
     "name": "stdout",
     "output_type": "stream",
     "text": [
      "Test MSE: 0.3585, MAE: 0.2358, R^2: 0.0083\n",
      "Predictions saved to gene_predictions.csv\n"
     ]
    }
   ],
   "source": [
    "from sklearn.metrics import mean_absolute_error, r2_score\n",
    "\n",
    "def evaluate_with_metrics(model, loader):\n",
    "    model.eval()\n",
    "    preds = []\n",
    "    targets = []\n",
    "    gene_ids = []\n",
    "    with torch.no_grad():\n",
    "        for data in loader:\n",
    "            out = model(data)\n",
    "            preds.extend(out.cpu().numpy())\n",
    "            targets.extend(data.y.cpu().numpy())\n",
    "            gene_ids.extend(data.gene_id)\n",
    "    mse = np.mean((np.array(preds) - np.array(targets)) ** 2)\n",
    "    mae = mean_absolute_error(targets, preds)\n",
    "    r2 = r2_score(targets, preds)\n",
    "    return preds, targets, gene_ids, mse, mae, r2\n",
    "\n",
    "# Evaluate on the test set\n",
    "preds, targets, gene_ids, mse, mae, r2 = evaluate_with_metrics(model, test_loader)\n",
    "print(f'Test MSE: {mse:.4f}, MAE: {mae:.4f}, R^2: {r2:.4f}')\n",
    "\n",
    "results_df = pd.DataFrame({\n",
    "    'gene_id': gene_ids,\n",
    "    'tpm_actual': targets,\n",
    "    'tpm_predicted': preds\n",
    "})\n",
    "\n",
    "# Save to CSV\n",
    "results_df.to_csv('gene_predictions.csv', index=False)\n",
    "print('Predictions saved to gene_predictions.csv')"
   ]
  },
  {
   "cell_type": "code",
   "execution_count": 30,
   "metadata": {},
   "outputs": [
    {
     "name": "stdout",
     "output_type": "stream",
     "text": [
      "Pearson Correlation Coefficient: 0.0948\n"
     ]
    },
    {
     "data": {
      "image/png": "[encoded data removed]",
      "text/plain": [
       "<Figure size 800x600 with 1 Axes>"
      ]
     },
     "metadata": {},
     "output_type": "display_data"
    }
   ],
   "source": [
    "import numpy as np\n",
    "import matplotlib.pyplot as plt\n",
    "from scipy.stats import pearsonr\n",
    "\n",
    "# Assuming you have preds, targets, and gene_ids from the evaluation\n",
    "\n",
    "# If you applied log transformation during training, invert it\n",
    "# preds = np.expm1(preds)\n",
    "# targets = np.expm1(targets)\n",
    "\n",
    "# Convert to numpy arrays\n",
    "preds = np.array(preds)\n",
    "targets = np.array(targets)\n",
    "\n",
    "# Handle zero values if using log scale\n",
    "offset = 1  # Add an offset if necessary\n",
    "preds_adj = preds + offset\n",
    "targets_adj = targets + offset\n",
    "\n",
    "# Compute Pearson correlation coefficient\n",
    "corr_coef, p_value = pearsonr(targets, preds)\n",
    "print(f'Pearson Correlation Coefficient: {corr_coef:.4f}')\n",
    "\n",
    "# Plot scatterplot with log scale\n",
    "plt.figure(figsize=(8, 6))\n",
    "plt.scatter(targets_adj, preds_adj, alpha=0.5)\n",
    "plt.title('Actual TPM vs. Predicted TPM (Log Scale)')\n",
    "plt.xlabel('Actual TPM')\n",
    "plt.ylabel('Predicted TPM')\n",
    "plt.xscale('log')\n",
    "plt.yscale('log')\n",
    "\n",
    "# Add reference line y = x in log scale\n",
    "min_val = min(np.min(targets_adj[targets_adj > 0]), np.min(preds_adj[preds_adj > 0]))\n",
    "max_val = max(np.max(targets_adj), np.max(preds_adj))\n",
    "plt.plot([min_val, max_val], [min_val, max_val], 'r--')\n",
    "\n",
    "# Add text box with correlation coefficient\n",
    "plt.text(1.5 * min_val, 0.6 * max_val, f'Pearson r = {corr_coef:.2f}', fontsize=12, bbox=dict(facecolor='white', alpha=0.5))\n",
    "\n",
    "# Save and/or show the plot\n",
    "plt.savefig('tpm_scatterplot_log.png', dpi=300)\n",
    "plt.show()\n"
   ]
  }
 ],
 "metadata": {
  "kernelspec": {
   "display_name": "cs224w",
   "language": "python",
   "name": "python3"
  },
  "language_info": {
   "codemirror_mode": {
    "name": "ipython",
    "version": 3
   },
   "file_extension": ".py",
   "mimetype": "text/x-python",
   "name": "python",
   "nbconvert_exporter": "python",
   "pygments_lexer": "ipython3",
   "version": "3.12.7"
  }
 },
 "nbformat": 4,
 "nbformat_minor": 2
}
